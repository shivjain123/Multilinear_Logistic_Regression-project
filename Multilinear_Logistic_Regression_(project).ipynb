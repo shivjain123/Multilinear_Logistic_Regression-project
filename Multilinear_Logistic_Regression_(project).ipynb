{
  "nbformat": 4,
  "nbformat_minor": 0,
  "metadata": {
    "colab": {
      "name": "Multilinear Logistic Regression (project).ipynb",
      "provenance": [],
      "authorship_tag": "ABX9TyOimwkhZdOLAedHkHb2pYFK",
      "include_colab_link": true
    },
    "kernelspec": {
      "name": "python3",
      "display_name": "Python 3"
    },
    "language_info": {
      "name": "python"
    }
  },
  "cells": [
    {
      "cell_type": "markdown",
      "metadata": {
        "id": "view-in-github",
        "colab_type": "text"
      },
      "source": [
        "<a href=\"https://colab.research.google.com/github/shivjain123/Multilinear_Logistic_Regression-project/blob/master/Multilinear_Logistic_Regression_(project).ipynb\" target=\"_parent\"><img src=\"https://colab.research.google.com/assets/colab-badge.svg\" alt=\"Open In Colab\"/></a>"
      ]
    },
    {
      "cell_type": "code",
      "metadata": {
        "id": "M2dVhIq2n76-"
      },
      "source": [
        "import pandas as p\n",
        "import plotly.express as px\n",
        "\n",
        "df = p.read_csv(\"https://raw.githubusercontent.com/whitehatjr/datasets/master/pro-c116/Admission_Predict.csv\")\n",
        "\n",
        "toefl_list = df[\"TOEFL Score\"].tolist()\n",
        "gre_list = df[\"GRE Score\"].tolist()\n",
        "chance_of_admit_list = df[\"Chance of admit\"].tolist()\n",
        "\n",
        "fig = px.scatter(x = toefl_list, y = chance_of_admit_list)\n",
        "\n",
        "fig.show()"
      ],
      "execution_count": null,
      "outputs": []
    },
    {
      "cell_type": "code",
      "metadata": {
        "id": "I0ck3uU_pW0J"
      },
      "source": [
        "import plotly.graph_objects as go\n",
        "yes_no = []\n",
        "\n",
        "for c in range(len(chance_of_admit_list)):\n",
        "  if chance_of_admit_list[c] == 1:\n",
        "    yes_no.append(\"green\")\n",
        "  else:\n",
        "    yes_no.append(\"red\")\n",
        "\n",
        "new_fig = go.Figure(go.Scatter(x = toefl_list, y = gre_list, mode = 'markers', marker = dict(color = yes_no)))\n",
        "\n",
        "new_fig.show()"
      ],
      "execution_count": null,
      "outputs": []
    },
    {
      "cell_type": "code",
      "metadata": {
        "id": "ygBTfyoYp7sD"
      },
      "source": [
        "from sklearn.model_selection import train_test_split\n",
        "from sklearn.preprocessing import StandardScaler\n",
        "from sklearn.linear_model import LogisticRegression as lr\n",
        "\n",
        "scores = df[[\"TOEFL Score\", \"GRE Score\"]]\n",
        "chance_admit = df[\"Chance of admit\"]\n",
        "\n",
        "scores_train, scores_test, chance_admit_train, chance_admit_test = train_test_split(scores, chance_admit, test_size = 0.25, random_state = 0)\n",
        "\n",
        "st = StandardScaler()\n",
        "\n",
        "scores_train = st.fit_transform(scores_train)\n",
        "scores_test = st.fit_transform(scores_test)\n",
        "\n",
        "classifier = lr(random_state = 0)\n",
        "classifier.fit(scores_train, chance_admit_train)"
      ],
      "execution_count": null,
      "outputs": []
    },
    {
      "cell_type": "code",
      "metadata": {
        "id": "4YnxDuf5qeI-"
      },
      "source": [
        "from sklearn.metrics import accuracy_score\n",
        "prediction_results = classifier.predict(scores_test)\n",
        "\n",
        "print(f\"The Accuracy Score is {accuracy_score(chance_admit_test, prediction_results)}\")"
      ],
      "execution_count": null,
      "outputs": []
    },
    {
      "cell_type": "code",
      "metadata": {
        "id": "rkKJRiYAqqRA"
      },
      "source": [
        "your_toefl_score = float(input(\"Please enter your TOEFL Score.\"))\n",
        "your_gre_score = float(input(\"Please enter your GRE Score.\"))\n",
        "\n",
        "test = st.transform([[your_toefl_score, your_gre_score]])\n",
        "final_prediction = classifier.predict(test)\n",
        "\n",
        "if final_prediction[0] == 1:\n",
        "  print(\"You will pass the exam!\")\n",
        "else:\n",
        "  print(\"You will not be able to pass the exam.\")"
      ],
      "execution_count": null,
      "outputs": []
    }
  ]
}